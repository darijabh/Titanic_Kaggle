{
  "metadata": {
    "kernelspec": {
      "language": "python",
      "display_name": "Python 3",
      "name": "python3"
    },
    "language_info": {
      "name": "python",
      "version": "3.10.14",
      "mimetype": "text/x-python",
      "codemirror_mode": {
        "name": "ipython",
        "version": 3
      },
      "pygments_lexer": "ipython3",
      "nbconvert_exporter": "python",
      "file_extension": ".py"
    },
    "kaggle": {
      "accelerator": "none",
      "dataSources": [
        {
          "sourceId": 3136,
          "databundleVersionId": 26502,
          "sourceType": "competition"
        }
      ],
      "dockerImageVersionId": 30786,
      "isInternetEnabled": false,
      "language": "python",
      "sourceType": "notebook",
      "isGpuEnabled": false
    },
    "colab": {
      "name": "Titanic Competition",
      "provenance": [],
      "toc_visible": true
    }
  },
  "nbformat_minor": 0,
  "nbformat": 4,
  "cells": [
    {
      "source": [
        "# IMPORTANT: SOME KAGGLE DATA SOURCES ARE PRIVATE\n",
        "# RUN THIS CELL IN ORDER TO IMPORT YOUR KAGGLE DATA SOURCES.\n",
        "# YOU WILL NEED TO AUTHORISE ON KAGGLE USING PERSONAL TOKEN.\n",
        "import kagglehub\n",
        "kagglehub.login()\n"
      ],
      "metadata": {
        "id": "6MC2hELUnUVF"
      },
      "cell_type": "code",
      "outputs": [],
      "execution_count": 85
    },
    {
      "cell_type": "code",
      "source": [
        "import numpy as np\n",
        "import pandas as pd\n",
        "import seaborn as sns\n",
        "import warnings\n",
        "import random\n",
        "\n",
        "from sklearn.linear_model import LogisticRegression\n",
        "from sklearn.ensemble import RandomForestClassifier\n",
        "from sklearn.tree import DecisionTreeClassifier\n",
        "from sklearn.neighbors import KNeighborsClassifier\n",
        "from sklearn.svm import SVC\n",
        "from sklearn.naive_bayes import GaussianNB\n",
        "from sklearn.metrics import accuracy_score, precision_score, recall_score, f1_score, roc_auc_score\n",
        "from sklearn.feature_selection import SelectKBest, mutual_info_classif\n",
        "from sklearn.utils import resample\n",
        "from sklearn.preprocessing import StandardScaler\n",
        "from sklearn.pipeline import Pipeline\n",
        "\n",
        "import os\n",
        "for dirname, _, filenames in os.walk('/kaggle/input'):\n",
        "    for filename in filenames:\n",
        "        print(os.path.join(dirname, filename))"
      ],
      "metadata": {
        "trusted": true,
        "execution": {
          "iopub.status.busy": "2024-11-25T13:16:39.620959Z",
          "iopub.execute_input": "2024-11-25T13:16:39.621433Z",
          "iopub.status.idle": "2024-11-25T13:16:39.632496Z",
          "shell.execute_reply.started": "2024-11-25T13:16:39.621392Z",
          "shell.execute_reply": "2024-11-25T13:16:39.630748Z"
        },
        "id": "s_3gfccKnUVG"
      },
      "outputs": [],
      "execution_count": 99
    },
    {
      "cell_type": "markdown",
      "source": [
        "## Load data and combine. Check for missing values."
      ],
      "metadata": {
        "id": "8X9NZkkOnUVH"
      }
    },
    {
      "cell_type": "code",
      "source": [
        "titanic_path = kagglehub.competition_download('titanic') # Downloading the dataset\n",
        "# Use os.path.join to construct file paths\n",
        "train_csv_path = os.path.join(titanic_path, 'train.csv')\n",
        "test_csv_path = os.path.join(titanic_path, 'test.csv')\n",
        "\n",
        "\n",
        "# Use the new paths to read the CSV files.\n",
        "df_train = pd.read_csv(train_csv_path)\n",
        "df_train.columns = map(str.lower, df_train.columns)\n",
        "print('Train dataset has entries:', len(df_train))\n",
        "# 890 is the last index associated with train dataset\n",
        "\n",
        "\n",
        "# Use the new paths to read the CSV files.\n",
        "df_test = pd.read_csv(test_csv_path)\n",
        "df_test.columns = map(str.lower, df_test.columns)\n",
        "print('Train dataset has entries:', len(df_test))\n",
        "\n",
        "frames = [df_train,df_test]\n",
        "combined = pd.concat(frames)\n",
        "combined.reset_index(drop=True, inplace=True)\n",
        "print('Combined dataset has entries:', len(combined))\n",
        "\n",
        "print('Combined dataset columns are:', combined.columns.tolist())"
      ],
      "metadata": {
        "execution": {
          "iopub.status.busy": "2024-11-25T13:16:39.635394Z",
          "iopub.execute_input": "2024-11-25T13:16:39.635903Z",
          "iopub.status.idle": "2024-11-25T13:16:39.670547Z",
          "shell.execute_reply.started": "2024-11-25T13:16:39.635853Z",
          "shell.execute_reply": "2024-11-25T13:16:39.669149Z"
        },
        "trusted": true,
        "colab": {
          "base_uri": "https://localhost:8080/"
        },
        "id": "lqWNOrjRnUVH",
        "outputId": "a6c30866-3389-4c0b-fd53-f96c4e9e7aa5"
      },
      "outputs": [
        {
          "output_type": "stream",
          "name": "stdout",
          "text": [
            "Train dataset has entries: 891\n",
            "Train dataset has entries: 418\n",
            "Combined dataset has entries: 1309\n",
            "Combined dataset columns are: ['passengerid', 'survived', 'pclass', 'name', 'sex', 'age', 'sibsp', 'parch', 'ticket', 'fare', 'cabin', 'embarked']\n"
          ]
        }
      ],
      "execution_count": 100
    },
    {
      "cell_type": "code",
      "source": [
        "print(combined.isnull().sum())"
      ],
      "metadata": {
        "trusted": true,
        "execution": {
          "iopub.status.busy": "2024-11-25T13:16:39.672255Z",
          "iopub.execute_input": "2024-11-25T13:16:39.672616Z",
          "iopub.status.idle": "2024-11-25T13:16:39.686503Z",
          "shell.execute_reply.started": "2024-11-25T13:16:39.672581Z",
          "shell.execute_reply": "2024-11-25T13:16:39.684924Z"
        },
        "colab": {
          "base_uri": "https://localhost:8080/"
        },
        "id": "ftRCRHPEnUVI",
        "outputId": "27944457-0d9d-43e8-b82f-8763393fef1d"
      },
      "outputs": [
        {
          "output_type": "stream",
          "name": "stdout",
          "text": [
            "passengerid       0\n",
            "survived        418\n",
            "pclass            0\n",
            "name              0\n",
            "sex               0\n",
            "age             263\n",
            "sibsp             0\n",
            "parch             0\n",
            "ticket            0\n",
            "fare              1\n",
            "cabin          1014\n",
            "embarked          2\n",
            "dtype: int64\n"
          ]
        }
      ],
      "execution_count": 101
    },
    {
      "cell_type": "markdown",
      "source": [
        "There are a few missing values in the dataset for age, fare, cabin, and embarked."
      ],
      "metadata": {
        "id": "GGsLGtM4pPjm"
      }
    },
    {
      "cell_type": "markdown",
      "source": [
        "## Exploratory data analysis.\n",
        "\n",
        "I iterate over the variables to analyse them, their relationship with the variable of interest (ie survived). I also deal with missing data if needed and generate new variables."
      ],
      "metadata": {
        "id": "pp736pJsnpSW"
      }
    },
    {
      "cell_type": "markdown",
      "source": [
        "### EDA: passegerid."
      ],
      "metadata": {
        "id": "qWFFugCTnUVI"
      }
    },
    {
      "cell_type": "code",
      "source": [
        "print('Unique IDs are:', combined['passengerid'].unique())\n",
        "print('The number of unique passenger IDs in combined dataset:', len(combined['passengerid'].unique()))"
      ],
      "metadata": {
        "trusted": true,
        "execution": {
          "iopub.status.busy": "2024-11-25T13:16:39.69012Z",
          "iopub.execute_input": "2024-11-25T13:16:39.690552Z",
          "iopub.status.idle": "2024-11-25T13:16:39.7074Z",
          "shell.execute_reply.started": "2024-11-25T13:16:39.690517Z",
          "shell.execute_reply": "2024-11-25T13:16:39.706277Z"
        },
        "colab": {
          "base_uri": "https://localhost:8080/"
        },
        "id": "2oyy9yoxnUVJ",
        "outputId": "aac65014-8203-4e81-b31c-7443d2303b6a"
      },
      "outputs": [
        {
          "output_type": "stream",
          "name": "stdout",
          "text": [
            "Unique IDs are: [   1    2    3 ... 1307 1308 1309]\n",
            "The number of unique passenger IDs in combined dataset: 1309\n"
          ]
        }
      ],
      "execution_count": 102
    },
    {
      "cell_type": "code",
      "source": [
        "for df in [df_train, df_test]:\n",
        "    df.drop(['passengerid'], axis=1, inplace=True)"
      ],
      "metadata": {
        "trusted": true,
        "execution": {
          "iopub.status.busy": "2024-11-25T13:16:39.708741Z",
          "iopub.execute_input": "2024-11-25T13:16:39.709177Z",
          "iopub.status.idle": "2024-11-25T13:16:39.72844Z",
          "shell.execute_reply.started": "2024-11-25T13:16:39.709125Z",
          "shell.execute_reply": "2024-11-25T13:16:39.727213Z"
        },
        "id": "8WsboK2wnUVJ"
      },
      "outputs": [],
      "execution_count": 103
    },
    {
      "cell_type": "markdown",
      "source": [
        "Passenger ID seems uninformative. They simply run from 1 to 1309, all unique. There are no missing values or duplicates. Drop the variable."
      ],
      "metadata": {
        "id": "GKXdJa9anUVK"
      }
    },
    {
      "cell_type": "markdown",
      "source": [
        "### EDA: pclass.\n",
        "Hypothesis: rich passenger had higher survival chances."
      ],
      "metadata": {
        "id": "HcyaowpNnUVK"
      }
    },
    {
      "cell_type": "code",
      "source": [
        "for i in df_train['pclass'].unique():\n",
        "    pclass = df_train.loc[df_train.pclass == i][\"survived\"]\n",
        "    rate = sum(pclass)/len(pclass)\n",
        "    print(\"% of\", i, \"class who survived:\", round(rate,2))\n",
        "    if i == min(df_train['pclass'].unique()):\n",
        "        largest = rate\n",
        "    elif i == max(df_train['pclass'].unique()):\n",
        "        smallest = rate\n",
        "\n",
        "print(\"Survivability difference between first and third class\", round(largest-smallest,2))"
      ],
      "metadata": {
        "trusted": true,
        "execution": {
          "iopub.status.busy": "2024-11-25T13:16:39.730066Z",
          "iopub.execute_input": "2024-11-25T13:16:39.731177Z",
          "iopub.status.idle": "2024-11-25T13:16:39.749882Z",
          "shell.execute_reply.started": "2024-11-25T13:16:39.731122Z",
          "shell.execute_reply": "2024-11-25T13:16:39.748611Z"
        },
        "colab": {
          "base_uri": "https://localhost:8080/"
        },
        "id": "7oZ3Pli6nUVL",
        "outputId": "7c3e9dad-cc65-494d-f772-c467cc10be46"
      },
      "outputs": [
        {
          "output_type": "stream",
          "name": "stdout",
          "text": [
            "% of 3 class who survived: 0.24\n",
            "% of 1 class who survived: 0.63\n",
            "% of 2 class who survived: 0.47\n",
            "Survivability difference between first and third class 0.39\n"
          ]
        }
      ],
      "execution_count": 104
    },
    {
      "cell_type": "markdown",
      "source": [
        "Initial hypothesis confirmed: passengers from first class had 39ppts higher chances of survival relative to third class. Survivabulity in the second class was interdemiate."
      ],
      "metadata": {
        "id": "Khl61N8TnUVL"
      }
    },
    {
      "cell_type": "markdown",
      "source": [
        "### EDA: name."
      ],
      "metadata": {
        "id": "yzeRiwj2nUVL"
      }
    },
    {
      "cell_type": "code",
      "source": [
        "print(combined['name'].unique())\n",
        "print('The number of unique names in combined dataset:', len(combined['name'].unique()))"
      ],
      "metadata": {
        "trusted": true,
        "execution": {
          "iopub.status.busy": "2024-11-25T13:16:39.751911Z",
          "iopub.execute_input": "2024-11-25T13:16:39.752353Z",
          "iopub.status.idle": "2024-11-25T13:16:39.766433Z",
          "shell.execute_reply.started": "2024-11-25T13:16:39.752316Z",
          "shell.execute_reply": "2024-11-25T13:16:39.765239Z"
        },
        "colab": {
          "base_uri": "https://localhost:8080/"
        },
        "id": "ZJzluHXAnUVL",
        "outputId": "646c0c20-4f56-44df-dea7-778d23cd4b7f"
      },
      "outputs": [
        {
          "output_type": "stream",
          "name": "stdout",
          "text": [
            "['Braund, Mr. Owen Harris'\n",
            " 'Cumings, Mrs. John Bradley (Florence Briggs Thayer)'\n",
            " 'Heikkinen, Miss. Laina' ... 'Saether, Mr. Simon Sivertsen'\n",
            " 'Ware, Mr. Frederick' 'Peter, Master. Michael J']\n",
            "The number of unique names in combined dataset: 1307\n"
          ]
        }
      ],
      "execution_count": 105
    },
    {
      "cell_type": "code",
      "source": [
        "duplicates = combined[combined.duplicated(subset=['name'], keep=False)]  # keep=False to show all duplicates\n",
        "print(duplicates)"
      ],
      "metadata": {
        "trusted": true,
        "execution": {
          "iopub.status.busy": "2024-11-25T13:16:39.769748Z",
          "iopub.execute_input": "2024-11-25T13:16:39.770262Z",
          "iopub.status.idle": "2024-11-25T13:16:39.789957Z",
          "shell.execute_reply.started": "2024-11-25T13:16:39.77017Z",
          "shell.execute_reply": "2024-11-25T13:16:39.788745Z"
        },
        "colab": {
          "base_uri": "https://localhost:8080/"
        },
        "id": "TDIHLSIenUVL",
        "outputId": "e09a0363-c160-4b18-b90e-515fd8dec3a6"
      },
      "outputs": [
        {
          "output_type": "stream",
          "name": "stdout",
          "text": [
            "     passengerid  survived  pclass                  name     sex   age  sibsp  \\\n",
            "289          290       1.0       3  Connolly, Miss. Kate  female  22.0      0   \n",
            "696          697       0.0       3      Kelly, Mr. James    male  44.0      0   \n",
            "891          892       NaN       3      Kelly, Mr. James    male  34.5      0   \n",
            "897          898       NaN       3  Connolly, Miss. Kate  female  30.0      0   \n",
            "\n",
            "     parch  ticket    fare cabin embarked  \n",
            "289      0  370373  7.7500   NaN        Q  \n",
            "696      0  363592  8.0500   NaN        S  \n",
            "891      0  330911  7.8292   NaN        Q  \n",
            "897      0  330972  7.6292   NaN        Q  \n"
          ]
        }
      ],
      "execution_count": 106
    },
    {
      "cell_type": "markdown",
      "source": [
        "There are two duplicates in the data. Checking online, Mr Kelly James apprears to be passenger ID 696 (ticket number coincides). Miss Kate Connolly is passenger ID 897 (ticket number coincides). Checking the other two tickets, 370373 belonged to Miss Catherine Connoly, who survived, and 330911 was of James Kelly who also died. So these are different people. We keep everything as is.\n",
        "\n",
        "Interestingly, the names data has various titles. We can extract these titles and try to group them meaningfully."
      ],
      "metadata": {
        "id": "O9iYsL8inUVM"
      }
    },
    {
      "cell_type": "code",
      "source": [
        "titles = []\n",
        "for name in combined['name']:\n",
        "    title = name.split(',')[1].split('.')[0].strip()\n",
        "    if title not in titles:\n",
        "        titles.append(title)\n",
        "\n",
        "print(titles)\n",
        "\n",
        "title_dict = {\n",
        "    'Sir': 'noble', 'Major': 'army', 'the Countess': 'noble',\n",
        "    'Don': 'noble', 'Mlle': 'ms', 'Capt': 'army',\n",
        "    'Dr': 'other', 'Lady': 'noble', 'Rev': 'other',\n",
        "    'Mrs': 'mrs', 'Jonkheer': 'noble', 'Master': 'master',\n",
        "    'Ms': 'ms', 'Mr': 'mr', 'Mme': 'mrs',\n",
        "    'Miss': 'ms', 'Col': 'army',\n",
        "    'Dona': 'noble'\n",
        "}\n"
      ],
      "metadata": {
        "trusted": true,
        "execution": {
          "iopub.status.busy": "2024-11-25T13:16:39.791313Z",
          "iopub.execute_input": "2024-11-25T13:16:39.791754Z",
          "iopub.status.idle": "2024-11-25T13:16:39.810368Z",
          "shell.execute_reply.started": "2024-11-25T13:16:39.791659Z",
          "shell.execute_reply": "2024-11-25T13:16:39.809264Z"
        },
        "colab": {
          "base_uri": "https://localhost:8080/"
        },
        "id": "zniEnVCQnUVM",
        "outputId": "2c79f321-7741-4164-e820-74050c014da6"
      },
      "outputs": [
        {
          "output_type": "stream",
          "name": "stdout",
          "text": [
            "['Mr', 'Mrs', 'Miss', 'Master', 'Don', 'Rev', 'Dr', 'Mme', 'Ms', 'Major', 'Lady', 'Sir', 'Mlle', 'Col', 'Capt', 'the Countess', 'Jonkheer', 'Dona']\n"
          ]
        }
      ],
      "execution_count": 107
    },
    {
      "cell_type": "markdown",
      "source": [
        "there are some specific unique titles indicating army rank or noble background. Also some standard titles are clearly French. We can batch titles into: Mrs, Ms, Mr, Noble, Army, Master (young boy in English), and Other (for Doctor and Reverand). Now, extract titles for the datasets, save as new variable, drop names."
      ],
      "metadata": {
        "id": "q86Kib9XnUVM"
      }
    },
    {
      "cell_type": "code",
      "source": [
        "def get_titles():\n",
        "    dataset['title'] = dataset['name'].map(lambda name:name.split(',')[1].split('.')[0].strip())\n",
        "    dataset['title'] = dataset.title.map(title_dict)\n",
        "\n",
        "    return dataset\n",
        "\n",
        "df = [df_train, df_test]\n",
        "for dataset in df:\n",
        "    dataset = get_titles()\n",
        "    dataset = dataset.drop('name', axis=1, inplace=True)"
      ],
      "metadata": {
        "trusted": true,
        "execution": {
          "iopub.status.busy": "2024-11-25T13:16:39.81145Z",
          "iopub.execute_input": "2024-11-25T13:16:39.811766Z",
          "iopub.status.idle": "2024-11-25T13:16:39.841182Z",
          "shell.execute_reply.started": "2024-11-25T13:16:39.811736Z",
          "shell.execute_reply": "2024-11-25T13:16:39.83992Z"
        },
        "id": "wDVHyruinUVM"
      },
      "outputs": [],
      "execution_count": 108
    },
    {
      "cell_type": "code",
      "source": [
        "axes = sns.catplot(data=df_train, x='title', y='survived', kind=\"bar\")"
      ],
      "metadata": {
        "trusted": true,
        "execution": {
          "iopub.status.busy": "2024-11-25T13:16:39.842966Z",
          "iopub.execute_input": "2024-11-25T13:16:39.843465Z",
          "iopub.status.idle": "2024-11-25T13:16:40.293429Z",
          "shell.execute_reply.started": "2024-11-25T13:16:39.843415Z",
          "shell.execute_reply": "2024-11-25T13:16:40.2915Z"
        },
        "colab": {
          "base_uri": "https://localhost:8080/",
          "height": 506
        },
        "id": "0fwcq2LPnUVN",
        "outputId": "d99f1926-fb88-4721-eb9f-43cfb674f000"
      },
      "outputs": [
        {
          "output_type": "display_data",
          "data": {
            "text/plain": [
              "<Figure size 511.111x500 with 1 Axes>"
            ],
            "image/png": "[encoded data removed]"
          },
          "metadata": {}
        }
      ],
      "execution_count": 109
    },
    {
      "cell_type": "markdown",
      "source": [
        "Passengers with the following titles [Mrs, Ms, Master, Noble] had higher chances of survival. This is sensible --these are females, children, and rich people ."
      ],
      "metadata": {
        "id": "MbvZ5UUnnUVN"
      }
    },
    {
      "cell_type": "markdown",
      "source": [
        "### EDA: - sex.\n",
        "Hypothesis: sex should be an important factor. Females should be given priority during evacuation."
      ],
      "metadata": {
        "id": "6PF_WIXInUVN"
      }
    },
    {
      "cell_type": "code",
      "source": [
        "women = df_train.loc[df_train.sex == 'female'][\"survived\"]\n",
        "rate_women = sum(women)/len(women)\n",
        "print(\"% of women who survived:\", round(rate_women,2))\n",
        "\n",
        "men = df_train.loc[df_train.sex != 'female'][\"survived\"]\n",
        "rate_men = sum(men)/len(men)\n",
        "print(\"% of men who survived:\", round(rate_men,2))\n",
        "\n",
        "print(\"Survivability difference between females and males\", round(rate_women-rate_men,2))"
      ],
      "metadata": {
        "execution": {
          "iopub.status.busy": "2024-11-25T13:16:40.295502Z",
          "iopub.execute_input": "2024-11-25T13:16:40.296879Z",
          "iopub.status.idle": "2024-11-25T13:16:40.308748Z",
          "shell.execute_reply.started": "2024-11-25T13:16:40.296807Z",
          "shell.execute_reply": "2024-11-25T13:16:40.307649Z"
        },
        "trusted": true,
        "colab": {
          "base_uri": "https://localhost:8080/"
        },
        "id": "BgAyQk7snUVN",
        "outputId": "aca0f055-fc60-4570-8d96-21492edba036"
      },
      "outputs": [
        {
          "output_type": "stream",
          "name": "stdout",
          "text": [
            "% of women who survived: 0.74\n",
            "% of men who survived: 0.19\n",
            "Survivability difference between females and males 0.55\n"
          ]
        }
      ],
      "execution_count": 110
    },
    {
      "cell_type": "markdown",
      "source": [
        "Indeed, females had 55ppts higher survivability chance than males."
      ],
      "metadata": {
        "id": "CdNjHhPdnUVN"
      }
    },
    {
      "cell_type": "markdown",
      "source": [
        "### EDA: age.\n",
        "263 records for age are missing in the combined dataset. Let's impute based on median values for cross-categories sex and title. This should capture some of the essential aspects of the data. For example, Master is clearly a boy, not a man. On the other hand, Dr can be both a man and a woman but clearly adult.\n"
      ],
      "metadata": {
        "id": "ZEy9u0SBnUVN"
      }
    },
    {
      "cell_type": "code",
      "source": [
        "def impute_age(x):\n",
        "    return x['age'].fillna(x['age'].median())\n",
        "\n",
        "for df in [df_train, df_test]:\n",
        "    df['age'] = df.groupby(['sex', 'title']).apply(impute_age).reset_index(level=[0,1], drop=True)"
      ],
      "metadata": {
        "trusted": true,
        "execution": {
          "iopub.status.busy": "2024-11-25T13:16:40.310376Z",
          "iopub.execute_input": "2024-11-25T13:16:40.310825Z",
          "iopub.status.idle": "2024-11-25T13:16:40.326733Z",
          "shell.execute_reply.started": "2024-11-25T13:16:40.310775Z",
          "shell.execute_reply": "2024-11-25T13:16:40.325628Z"
        },
        "colab": {
          "base_uri": "https://localhost:8080/"
        },
        "id": "1aR8lmOCnUVN",
        "outputId": "8b8b7fad-d843-44d8-841e-0f2a05415a92"
      },
      "outputs": [
        {
          "output_type": "stream",
          "name": "stdout",
          "text": [
            "Empty DataFrame\n",
            "Columns: [survived, pclass, sex, age, sibsp, parch, ticket, fare, cabin, embarked, title]\n",
            "Index: []\n",
            "Empty DataFrame\n",
            "Columns: [pclass, sex, age, sibsp, parch, ticket, fare, cabin, embarked, title]\n",
            "Index: []\n"
          ]
        },
        {
          "output_type": "stream",
          "name": "stderr",
          "text": [
            "<ipython-input-116-235c2805b3bd>:5: DeprecationWarning: DataFrameGroupBy.apply operated on the grouping columns. This behavior is deprecated, and in a future version of pandas the grouping columns will be excluded from the operation. Either pass `include_groups=False` to exclude the groupings or explicitly select the grouping columns after groupby to silence this warning.\n",
            "  df['age'] = df.groupby(['sex', 'title']).apply(impute_age).reset_index(level=[0,1], drop=True)\n",
            "<ipython-input-116-235c2805b3bd>:5: DeprecationWarning: DataFrameGroupBy.apply operated on the grouping columns. This behavior is deprecated, and in a future version of pandas the grouping columns will be excluded from the operation. Either pass `include_groups=False` to exclude the groupings or explicitly select the grouping columns after groupby to silence this warning.\n",
            "  df['age'] = df.groupby(['sex', 'title']).apply(impute_age).reset_index(level=[0,1], drop=True)\n"
          ]
        }
      ],
      "execution_count": 116
    },
    {
      "cell_type": "markdown",
      "source": [
        "Inintial hypothesis: age should be correlated with survivability as children should be given priority during evacuation."
      ],
      "metadata": {
        "id": "RyhlRrruvoT6"
      }
    },
    {
      "cell_type": "code",
      "source": [
        "print('Correlation between age and survivability:', df_train['age'].corr(df_train['survived']))\n",
        "\n",
        "df = [df_train, df_test]\n",
        "for dataset in df:\n",
        "    dataset['minor'] = 0\n",
        "    for index,row in dataset.iterrows():\n",
        "        if dataset.loc[index, 'age'] < 16:\n",
        "            dataset.loc[index, 'minor'] = 1\n",
        "\n",
        "youth = df_train.loc[df_train.minor == 1][\"survived\"]\n",
        "rate_youth = sum(youth)/len(youth)\n",
        "print(\"% of minors who survived:\", round(rate_youth,2))\n",
        "\n",
        "non_youth = df_train.loc[df_train.minor != 1][\"survived\"]\n",
        "rate_non_youth = sum(non_youth)/len(non_youth)\n",
        "print(\"% of non-minors who survived:\", round(rate_non_youth,2))\n",
        "\n",
        "print(\"Survivability difference between minors and non-minors\", round(rate_youth-rate_non_youth,2))"
      ],
      "metadata": {
        "execution": {
          "iopub.status.busy": "2024-11-25T13:16:40.32844Z",
          "iopub.execute_input": "2024-11-25T13:16:40.328868Z",
          "iopub.status.idle": "2024-11-25T13:16:40.466609Z",
          "shell.execute_reply.started": "2024-11-25T13:16:40.328813Z",
          "shell.execute_reply": "2024-11-25T13:16:40.465237Z"
        },
        "trusted": true,
        "colab": {
          "base_uri": "https://localhost:8080/"
        },
        "id": "-xFz0HKrnUVO",
        "outputId": "8dab2c4a-7cfe-4ce8-b62f-a2b9b4f3d8e6"
      },
      "outputs": [
        {
          "output_type": "stream",
          "name": "stdout",
          "text": [
            "Correlation between age and survivability: -0.07866866515159471\n",
            "% of minors who survived: 0.59\n",
            "% of non-minors who survived: 0.36\n",
            "Survivability difference between minors and non-minors 0.22\n"
          ]
        }
      ],
      "execution_count": 117
    },
    {
      "cell_type": "markdown",
      "source": [
        "Survivability is meaningfully well correlated with age. However, discretising the dataset by minor (ie under 16) and older, the difference in survivabiltiy is 23ppts."
      ],
      "metadata": {
        "id": "9nuMsFvsnUVO"
      }
    },
    {
      "cell_type": "markdown",
      "source": [
        "### EDA: sibsp and  parch.\n",
        "Hypothesis: travelling with more people may have an effect on survivability. Perhaps it is nonlinear, as having some relatives on board is good but too many is probably problematic (think of a man with wife and 5 children)."
      ],
      "metadata": {
        "id": "w2rzGRiTnUVO"
      }
    },
    {
      "cell_type": "code",
      "source": [
        "df = [df_train, df_test]\n",
        "for dataset in df:\n",
        "    dataset['relatives'] = dataset['sibsp'] + dataset['parch']\n",
        "\n",
        "print('People travelled with various number of relatives:', df_train['relatives'].unique())\n",
        "\n",
        "axes = sns.catplot(data=df_train, x='relatives', y='survived', kind=\"bar\")"
      ],
      "metadata": {
        "trusted": true,
        "execution": {
          "iopub.status.busy": "2024-11-25T13:16:40.468319Z",
          "iopub.execute_input": "2024-11-25T13:16:40.46877Z",
          "iopub.status.idle": "2024-11-25T13:16:41.059279Z",
          "shell.execute_reply.started": "2024-11-25T13:16:40.468721Z",
          "shell.execute_reply": "2024-11-25T13:16:41.056999Z"
        },
        "colab": {
          "base_uri": "https://localhost:8080/",
          "height": 524
        },
        "id": "Fai4_1odnUVO",
        "outputId": "d84ed9ec-dc77-434a-cf45-a099a47d1a41"
      },
      "outputs": [
        {
          "output_type": "stream",
          "name": "stdout",
          "text": [
            "People travelled with various number of relatives: [ 1  0  4  2  6  5  3  7 10]\n"
          ]
        },
        {
          "output_type": "display_data",
          "data": {
            "text/plain": [
              "<Figure size 511.111x500 with 1 Axes>"
            ],
            "image/png": "[encoded data removed]"
          },
          "metadata": {}
        }
      ],
      "execution_count": 118
    },
    {
      "cell_type": "markdown",
      "source": [
        "Travelling alone or with more than 3 relatives is associated with lower survivability. Let's generate relevant dummy variables: solo, small_family & large_family."
      ],
      "metadata": {
        "id": "ZhL5D9h1nUVO"
      }
    },
    {
      "cell_type": "code",
      "source": [
        "df = [df_train, df_test]\n",
        "for dataset in df:\n",
        "    dataset['relatives'] = dataset['sibsp'] + dataset['parch']\n",
        "\n",
        "    dataset.loc[dataset['relatives'] > 0, 'solo']   = 0\n",
        "    dataset.loc[dataset['relatives'] == 0, 'solo']  = 1\n",
        "\n",
        "    dataset.loc[dataset['relatives'] <= 3, 'large_family'] = 0\n",
        "    dataset.loc[dataset['relatives'] > 3, 'large_family'] = 1\n",
        "\n",
        "    dataset.loc[(dataset['relatives'] > 0) & (dataset['relatives'] <= 3), 'small_family']   = 1\n",
        "    dataset.loc[(dataset['relatives'] == 0) | (dataset['relatives'] > 3), 'small_family'] = 0\n",
        "\n",
        "\n",
        "    dataset.drop(['sibsp','parch'], axis=1, inplace=True)"
      ],
      "metadata": {
        "trusted": true,
        "execution": {
          "iopub.status.busy": "2024-11-25T13:16:41.062574Z",
          "iopub.execute_input": "2024-11-25T13:16:41.064127Z",
          "iopub.status.idle": "2024-11-25T13:16:41.101449Z",
          "shell.execute_reply.started": "2024-11-25T13:16:41.064051Z",
          "shell.execute_reply": "2024-11-25T13:16:41.100078Z"
        },
        "id": "BZzXBM7BnUVO"
      },
      "outputs": [],
      "execution_count": 119
    },
    {
      "cell_type": "markdown",
      "source": [
        "### EDA: ticket\n"
      ],
      "metadata": {
        "id": "eAQXOe77nUVP"
      }
    },
    {
      "cell_type": "code",
      "source": [
        "print('The number of unique tickets in combined dataset:', len(combined['ticket'].unique()))"
      ],
      "metadata": {
        "trusted": true,
        "execution": {
          "iopub.status.busy": "2024-11-25T13:16:41.126376Z",
          "iopub.execute_input": "2024-11-25T13:16:41.126781Z",
          "iopub.status.idle": "2024-11-25T13:16:41.149684Z",
          "shell.execute_reply.started": "2024-11-25T13:16:41.126739Z",
          "shell.execute_reply": "2024-11-25T13:16:41.14808Z"
        },
        "colab": {
          "base_uri": "https://localhost:8080/"
        },
        "id": "qtPikAAQnUVP",
        "outputId": "3fd25091-65f4-4d02-a4fd-ac20f48122f4"
      },
      "outputs": [
        {
          "output_type": "stream",
          "name": "stdout",
          "text": [
            "The number of unique tickets in combined dataset: 929\n"
          ]
        }
      ],
      "execution_count": 120
    },
    {
      "cell_type": "code",
      "source": [
        "duplicates = combined[combined.duplicated(subset=['ticket'], keep=False)]  # keep=False to show all duplicates\n",
        "print(len(duplicates))"
      ],
      "metadata": {
        "trusted": true,
        "execution": {
          "iopub.status.busy": "2024-11-25T13:16:41.151223Z",
          "iopub.execute_input": "2024-11-25T13:16:41.151708Z",
          "iopub.status.idle": "2024-11-25T13:16:41.169102Z",
          "shell.execute_reply.started": "2024-11-25T13:16:41.151656Z",
          "shell.execute_reply": "2024-11-25T13:16:41.167919Z"
        },
        "colab": {
          "base_uri": "https://localhost:8080/"
        },
        "id": "1f1x-x4knUVP",
        "outputId": "6c7de260-92c7-4813-f5eb-17087870fc06"
      },
      "outputs": [
        {
          "output_type": "stream",
          "name": "stdout",
          "text": [
            "596\n"
          ]
        }
      ],
      "execution_count": 121
    },
    {
      "cell_type": "code",
      "source": [
        "for df in [df_train, df_test]:\n",
        "    df.drop(['ticket'], axis=1, inplace=True)"
      ],
      "metadata": {
        "trusted": true,
        "execution": {
          "iopub.status.busy": "2024-11-25T13:16:41.170965Z",
          "iopub.execute_input": "2024-11-25T13:16:41.171493Z",
          "iopub.status.idle": "2024-11-25T13:16:41.188345Z",
          "shell.execute_reply.started": "2024-11-25T13:16:41.171438Z",
          "shell.execute_reply": "2024-11-25T13:16:41.187245Z"
        },
        "id": "6xe-hAIOnUVP"
      },
      "outputs": [],
      "execution_count": 122
    },
    {
      "cell_type": "markdown",
      "source": [
        "There seem to be many duplicate tickets. I suppose this is for families travelling together. Ignore this column."
      ],
      "metadata": {
        "id": "ce0-vYtjnUVP"
      }
    },
    {
      "cell_type": "markdown",
      "source": [
        "### EDA: fare."
      ],
      "metadata": {
        "id": "JhQHWz_0nUVP"
      }
    },
    {
      "cell_type": "code",
      "source": [
        "missing_fare = combined[combined['fare'].isnull()]\n",
        "print(missing_fare)"
      ],
      "metadata": {
        "trusted": true,
        "execution": {
          "iopub.status.busy": "2024-11-25T13:16:41.190071Z",
          "iopub.execute_input": "2024-11-25T13:16:41.19055Z",
          "iopub.status.idle": "2024-11-25T13:16:41.211874Z",
          "shell.execute_reply.started": "2024-11-25T13:16:41.1905Z",
          "shell.execute_reply": "2024-11-25T13:16:41.210662Z"
        },
        "colab": {
          "base_uri": "https://localhost:8080/"
        },
        "id": "g6GsTXcMnUVQ",
        "outputId": "6ee69e98-23d8-4c84-dbc2-96de63308e32"
      },
      "outputs": [
        {
          "output_type": "stream",
          "name": "stdout",
          "text": [
            "      passengerid  survived  pclass                name   sex   age  sibsp  \\\n",
            "1043         1044       NaN       3  Storey, Mr. Thomas  male  60.5      0   \n",
            "\n",
            "      parch ticket  fare cabin embarked  \n",
            "1043      0   3701   NaN   NaN        S  \n"
          ]
        }
      ],
      "execution_count": 123
    },
    {
      "cell_type": "markdown",
      "source": [
        "There is a missing fare value for a ticket in third class with port of embarkment S. Impute at mean ticket value for this class and port."
      ],
      "metadata": {
        "id": "hJbF87xYnUVQ"
      }
    },
    {
      "cell_type": "code",
      "source": [
        "def replace_zero_fare(row):\n",
        "    if row['fare'] == 0 or pd.isna(row['fare']):\n",
        "        return round(mean_fares.loc[(row['embarked'], row['pclass'])],4)\n",
        "    else:\n",
        "        return row['fare']\n",
        "\n",
        "mean_fares = combined.groupby(['embarked', 'pclass'])['fare'].mean()\n",
        "# print(mean_fares)\n",
        "\n",
        "for df in [df_train, df_test]:\n",
        "    df['fare'] = df.apply(replace_zero_fare, axis=1)"
      ],
      "metadata": {
        "trusted": true,
        "execution": {
          "iopub.status.busy": "2024-11-25T13:16:58.105172Z",
          "iopub.execute_input": "2024-11-25T13:16:58.10561Z",
          "iopub.status.idle": "2024-11-25T13:16:58.138357Z",
          "shell.execute_reply.started": "2024-11-25T13:16:58.105575Z",
          "shell.execute_reply": "2024-11-25T13:16:58.13728Z"
        },
        "id": "ErKZvV0ynUVQ"
      },
      "outputs": [],
      "execution_count": 125
    },
    {
      "cell_type": "markdown",
      "source": [
        "Initial hypothesis: higher fare is associated with higher pclass and higher survivability."
      ],
      "metadata": {
        "id": "XBqXjMLwphbX"
      }
    },
    {
      "cell_type": "code",
      "source": [
        "axes = sns.catplot(data=df_train, x='pclass', y='fare', kind=\"bar\")"
      ],
      "metadata": {
        "trusted": true,
        "execution": {
          "iopub.status.busy": "2024-11-25T13:14:34.707769Z",
          "iopub.execute_input": "2024-11-25T13:14:34.708063Z",
          "iopub.status.idle": "2024-11-25T13:14:35.129067Z",
          "shell.execute_reply.started": "2024-11-25T13:14:34.708033Z",
          "shell.execute_reply": "2024-11-25T13:14:35.127745Z"
        },
        "colab": {
          "base_uri": "https://localhost:8080/",
          "height": 507
        },
        "id": "S0q3hHHWnUVQ",
        "outputId": "7a3bf9a2-ca58-4db8-8cac-9aeca591f482"
      },
      "outputs": [
        {
          "output_type": "display_data",
          "data": {
            "text/plain": [
              "<Figure size 511.111x500 with 1 Axes>"
            ],
            "image/png": "[encoded data removed]"
          },
          "metadata": {}
        }
      ],
      "execution_count": 126
    },
    {
      "cell_type": "code",
      "source": [
        "print('Correlation between fare and survivability:', df_train['fare'].corr(df_train['survived']))"
      ],
      "metadata": {
        "trusted": true,
        "execution": {
          "iopub.status.busy": "2024-11-25T13:14:35.130777Z",
          "iopub.execute_input": "2024-11-25T13:14:35.131718Z",
          "iopub.status.idle": "2024-11-25T13:14:35.140207Z",
          "shell.execute_reply.started": "2024-11-25T13:14:35.13161Z",
          "shell.execute_reply": "2024-11-25T13:14:35.138778Z"
        },
        "colab": {
          "base_uri": "https://localhost:8080/"
        },
        "id": "qbe9KOolnUVQ",
        "outputId": "abf040c7-5296-4023-c749-e8644973d720"
      },
      "outputs": [
        {
          "output_type": "stream",
          "name": "stdout",
          "text": [
            "Correlation between fare and survivability: 0.24857912847749122\n"
          ]
        }
      ],
      "execution_count": 127
    },
    {
      "cell_type": "markdown",
      "source": [
        "ADD ME"
      ],
      "metadata": {
        "id": "nC5R56_ypfQJ"
      }
    },
    {
      "cell_type": "markdown",
      "source": [
        "### EDA: cabin"
      ],
      "metadata": {
        "id": "l7uWmKSinUVQ"
      }
    },
    {
      "cell_type": "markdown",
      "source": [
        "There is a lot of missing information in the Cabin variable. For now, giving the amount of missing data and likely correlation with pclass and fare, it makes sense to drop this variable. However, I can try imputing based on pclass and fare. This is work in process, the code is commented out."
      ],
      "metadata": {
        "id": "dhSC6JmCpvah"
      }
    },
    {
      "cell_type": "code",
      "source": [
        "for df in [df_train, df_test]:\n",
        "    df.drop(['cabin'], axis=1, inplace=True)"
      ],
      "metadata": {
        "trusted": true,
        "execution": {
          "iopub.status.busy": "2024-11-25T13:14:35.141804Z",
          "iopub.execute_input": "2024-11-25T13:14:35.142159Z",
          "iopub.status.idle": "2024-11-25T13:14:35.157911Z",
          "shell.execute_reply.started": "2024-11-25T13:14:35.142124Z",
          "shell.execute_reply": "2024-11-25T13:14:35.156464Z"
        },
        "id": "AKP5VHrenUVQ"
      },
      "outputs": [],
      "execution_count": 128
    },
    {
      "cell_type": "code",
      "source": [
        "# print(combined['cabin'].value_counts(dropna=False))\n",
        "\n",
        "# for df in [df_train, df_test]:\n",
        "#     df['cabin_code'] = df['cabin'].str[0]\n",
        "#     # print(df['cabin_code'].value_counts(dropna=False))\n",
        "\n",
        "#     for cabin in ['A', 'B', 'C', 'D', 'E', 'F', 'G', 'T']:\n",
        "#         incabin = df[df['cabin_code'] == cabin]\n",
        "#         print(cabin, 'min', min(incabin['fare'].values), 'max', max(incabin['fare'].values))"
      ],
      "metadata": {
        "trusted": true,
        "execution": {
          "iopub.status.busy": "2024-11-25T13:14:35.159829Z",
          "iopub.execute_input": "2024-11-25T13:14:35.160288Z",
          "iopub.status.idle": "2024-11-25T13:14:35.172956Z",
          "shell.execute_reply.started": "2024-11-25T13:14:35.160242Z",
          "shell.execute_reply": "2024-11-25T13:14:35.171715Z"
        },
        "id": "kkGhJHBPnUVQ"
      },
      "outputs": [],
      "execution_count": null
    },
    {
      "cell_type": "code",
      "source": [
        "# axes = sns.catplot(data=df_train, x='cabin_code', y='fare', kind=\"bar\")"
      ],
      "metadata": {
        "trusted": true,
        "execution": {
          "iopub.status.busy": "2024-11-25T13:14:35.182098Z",
          "iopub.execute_input": "2024-11-25T13:14:35.182708Z",
          "iopub.status.idle": "2024-11-25T13:14:35.195314Z",
          "shell.execute_reply.started": "2024-11-25T13:14:35.182665Z",
          "shell.execute_reply": "2024-11-25T13:14:35.193903Z"
        },
        "id": "kT1yjAlrnUVR"
      },
      "outputs": [],
      "execution_count": null
    },
    {
      "cell_type": "code",
      "source": [
        "# for df in [df_train, df_test]:\n",
        "#     for index,row in df.iterrows():\n",
        "#         if (str(df.loc[index, 'cabin']) == \"nan\") & (df.loc[index, 'fare'] > 120):\n",
        "#             df.loc[index, 'cabin'] = 'B'\n",
        "#         elif (str(df.loc[index, 'cabin']) == \"nan\") & (df.loc[index, 'fare'] > 75):\n",
        "#             guess = random.choice(['B', 'C'])\n",
        "#             print(df.loc[index, 'fare'])\n",
        "#         elif (str(df.loc[index, 'cabin']) == \"nan\") & (df.loc[index, 'fare'] < 20):\n",
        "#             df.loc[index, 'cabin'] = 'G'\n"
      ],
      "metadata": {
        "trusted": true,
        "execution": {
          "iopub.status.busy": "2024-11-25T13:14:35.196889Z",
          "iopub.execute_input": "2024-11-25T13:14:35.197425Z",
          "iopub.status.idle": "2024-11-25T13:14:35.2164Z",
          "shell.execute_reply.started": "2024-11-25T13:14:35.197374Z",
          "shell.execute_reply": "2024-11-25T13:14:35.215269Z"
        },
        "id": "KWeobOiwnUVR"
      },
      "outputs": [],
      "execution_count": null
    },
    {
      "cell_type": "markdown",
      "source": [
        "### EDA: port of embarkment.\n",
        "Thre is a missing value here. Impute on mode (which is S)."
      ],
      "metadata": {
        "id": "CpIKpvgznUVR"
      }
    },
    {
      "cell_type": "code",
      "source": [
        "missing_port = combined[combined['embarked'].isnull()]\n",
        "print(missing_port)\n",
        "\n",
        "print(combined['embarked'].value_counts(dropna=False))"
      ],
      "metadata": {
        "execution": {
          "iopub.status.busy": "2024-11-25T13:14:35.217852Z",
          "iopub.execute_input": "2024-11-25T13:14:35.21834Z",
          "iopub.status.idle": "2024-11-25T13:14:35.241395Z",
          "shell.execute_reply.started": "2024-11-25T13:14:35.218267Z",
          "shell.execute_reply": "2024-11-25T13:14:35.239928Z"
        },
        "trusted": true,
        "colab": {
          "base_uri": "https://localhost:8080/"
        },
        "id": "w4dzfTrqnUVR",
        "outputId": "9ae4360b-ff66-4af9-f9f7-a34b34944041"
      },
      "outputs": [
        {
          "output_type": "stream",
          "name": "stdout",
          "text": [
            "     passengerid  survived  pclass                                       name  \\\n",
            "61            62       1.0       1                        Icard, Miss. Amelie   \n",
            "829          830       1.0       1  Stone, Mrs. George Nelson (Martha Evelyn)   \n",
            "\n",
            "        sex   age  sibsp  parch  ticket  fare cabin embarked  \n",
            "61   female  38.0      0      0  113572  80.0   B28      NaN  \n",
            "829  female  62.0      0      0  113572  80.0   B28      NaN  \n",
            "embarked\n",
            "S      914\n",
            "C      270\n",
            "Q      123\n",
            "NaN      2\n",
            "Name: count, dtype: int64\n"
          ]
        }
      ],
      "execution_count": 129
    },
    {
      "cell_type": "code",
      "source": [
        "for df in [df_train, df_test]:\n",
        "    print(df['embarked'].value_counts(dropna=False))\n",
        "    df['embarked'] = df['embarked'].fillna('S')"
      ],
      "metadata": {
        "execution": {
          "iopub.status.busy": "2024-11-25T13:14:35.243073Z",
          "iopub.execute_input": "2024-11-25T13:14:35.243461Z",
          "iopub.status.idle": "2024-11-25T13:14:35.268333Z",
          "shell.execute_reply.started": "2024-11-25T13:14:35.243427Z",
          "shell.execute_reply": "2024-11-25T13:14:35.26678Z"
        },
        "trusted": true,
        "colab": {
          "base_uri": "https://localhost:8080/"
        },
        "id": "-Ugnmsq6nUVR",
        "outputId": "11fb7151-3d20-4a16-f534-7dc5cbf4f04a"
      },
      "outputs": [
        {
          "output_type": "stream",
          "name": "stdout",
          "text": [
            "embarked\n",
            "S      644\n",
            "C      168\n",
            "Q       77\n",
            "NaN      2\n",
            "Name: count, dtype: int64\n",
            "embarked\n",
            "S    270\n",
            "C    102\n",
            "Q     46\n",
            "Name: count, dtype: int64\n"
          ]
        }
      ],
      "execution_count": 130
    },
    {
      "cell_type": "markdown",
      "source": [
        "Hypothesis: There could be some difference in survivabiltiy based on port of embarkment. This could be to do with the order in which cabins are filled and their proximity to evacuation equipment."
      ],
      "metadata": {
        "id": "ryA8Ditpqs33"
      }
    },
    {
      "cell_type": "code",
      "source": [
        "for port in ['S', 'C', 'Q']:\n",
        "  embarked = df_train.loc[df_train.embarked == port][\"survived\"]\n",
        "  rate_emb = sum(embarked)/len(embarked)\n",
        "  print(\"% of passengers who embarked from \", port, \" who survived:\", round(rate_emb,2))"
      ],
      "metadata": {
        "colab": {
          "base_uri": "https://localhost:8080/"
        },
        "id": "hCxW4UfYqQi_",
        "outputId": "8709c055-549b-4ef2-ffac-d81f6c53c9be"
      },
      "execution_count": 131,
      "outputs": [
        {
          "output_type": "stream",
          "name": "stdout",
          "text": [
            "% of passengers who embarked from  S  who survived: 0.34\n",
            "% of passengers who embarked from  C  who survived: 0.55\n",
            "% of passengers who embarked from  Q  who survived: 0.39\n"
          ]
        }
      ]
    },
    {
      "cell_type": "markdown",
      "source": [
        "Turns out, those who embarked from port C survived 21ppts more often than those who embarked from port S."
      ],
      "metadata": {
        "id": "h9pYJt1hqPp7"
      }
    },
    {
      "cell_type": "markdown",
      "source": [
        "## Training models\n",
        "I evaluate the performance of several machine learning models:\n",
        "1. Logistic Regression\n",
        "2. Random Forest\n",
        "3. Decision Tree\n",
        "4. K-Nearest Neighbors\n",
        "5. Naive Bayes\n",
        "\n",
        "to predict a binary outcome ('survived').\n",
        "\n",
        "To ensure robust evaluation, I utilize a bootstrap method, creating multiple train/validation splits and assessing performance on each. This involves training each model on bootstrapped samples and evaluating their predictive accuracy on held-out validation sets.  \n",
        "\n",
        "Key metrics I consider include:\n",
        "1. accuracy\n",
        "2. precision\n",
        "3. recall\n",
        "4. F1-score\n",
        "5. ROC-AUC.  \n",
        "\n",
        "Furthermore, I employ a feature selection technique to identify the most informative predictors, providing insights into the factors driving the predictions."
      ],
      "metadata": {
        "id": "sB9LlHJVnUVR"
      }
    },
    {
      "cell_type": "code",
      "source": [
        "features = df_test.columns.tolist()\n",
        "print(features)\n",
        "\n",
        "# Create dummy variables for categorical variables\n",
        "df_train = pd.get_dummies(df_train)\n",
        "df_test = pd.get_dummies(df_test)"
      ],
      "metadata": {
        "colab": {
          "base_uri": "https://localhost:8080/"
        },
        "id": "6ZY6v3hwq33e",
        "outputId": "c9c1900e-2005-4aa4-e609-43e4d9df45eb"
      },
      "execution_count": 132,
      "outputs": [
        {
          "output_type": "stream",
          "name": "stdout",
          "text": [
            "['pclass', 'sex', 'age', 'fare', 'embarked', 'title', 'minor', 'relatives', 'solo', 'large_family', 'small_family']\n"
          ]
        }
      ]
    },
    {
      "cell_type": "code",
      "source": [
        "# Evaluate model with metrics\n",
        "def evaluate_model(y_true, y_pred, y_proba=None):\n",
        "    metrics = {\n",
        "        \"Accuracy\": accuracy_score(y_true, y_pred),\n",
        "        \"Precision\": precision_score(y_true, y_pred),\n",
        "        \"Recall\": recall_score(y_true, y_pred),\n",
        "        \"F1-Score\": f1_score(y_true, y_pred),\n",
        "    }\n",
        "    if y_proba is not None:\n",
        "        metrics[\"ROC-AUC\"] = roc_auc_score(y_true, y_proba)\n",
        "    return metrics\n",
        "\n",
        "# Feature selection\n",
        "def assess_features(X, y, k=5):\n",
        "    selector = SelectKBest(mutual_info_classif, k=k)\n",
        "    selector.fit(X, y)\n",
        "    selected_features = selector.get_support(indices=True)\n",
        "    return X.columns[selected_features]\n",
        "\n",
        "# Bootstrap evaluation: train/validation splits\n",
        "def bootstrap_model_evaluation(model, X, y, n_splits=50, validation_size=0.1, random_state=42):\n",
        "    np.random.seed(random_state)\n",
        "    all_metrics = []\n",
        "\n",
        "    for i in range(n_splits):\n",
        "        # Bootstrap sampling\n",
        "        X_train, y_train = resample(X, y, random_state=random_state + i)\n",
        "        X_val = X[~X.index.isin(X_train.index)]\n",
        "        y_val = y[~y.index.isin(y_train.index)]\n",
        "\n",
        "        # Fit model\n",
        "        model.fit(X_train, y_train)\n",
        "        y_pred = model.predict(X_val)\n",
        "        y_proba = model.predict_proba(X_val)[:, 1] if hasattr(model, \"predict_proba\") else None\n",
        "\n",
        "        # Evaluate on validation set\n",
        "        metrics = evaluate_model(y_val, y_pred, y_proba)\n",
        "        all_metrics.append(metrics)\n",
        "\n",
        "    return pd.DataFrame(all_metrics).mean()"
      ],
      "metadata": {
        "trusted": true,
        "execution": {
          "iopub.status.busy": "2024-11-25T13:14:35.270014Z",
          "iopub.execute_input": "2024-11-25T13:14:35.271385Z",
          "iopub.status.idle": "2024-11-25T13:14:35.28729Z",
          "shell.execute_reply.started": "2024-11-25T13:14:35.271321Z",
          "shell.execute_reply": "2024-11-25T13:14:35.285826Z"
        },
        "id": "JOC94ljHnUVR"
      },
      "outputs": [],
      "execution_count": 133
    },
    {
      "cell_type": "code",
      "source": [
        "if __name__ == \"__main__\":\n",
        "    X = df_train.drop('survived', axis=1)\n",
        "    y = df_train['survived']\n",
        "\n",
        "    models = {\n",
        "    \"Logistic Regression\": Pipeline([\n",
        "        (\"scaler\", StandardScaler()),\n",
        "        (\"model\", LogisticRegression(max_iter=1000, random_state=42))\n",
        "    ]),\n",
        "    \"Random Forest\": RandomForestClassifier(n_estimators=100, random_state=42),\n",
        "    \"Decision Tree\": DecisionTreeClassifier(random_state=42),\n",
        "    \"K-Nearest Neighbors\": Pipeline([\n",
        "        (\"scaler\", StandardScaler()),\n",
        "        (\"model\", KNeighborsClassifier(n_neighbors=5))\n",
        "    ]),\n",
        "    \"Naive Bayes\": GaussianNB(),  # Does not require scaling\n",
        "    }\n",
        "\n",
        "    for name, model in models.items():\n",
        "        print(f\"=== {name} ===\")\n",
        "\n",
        "        # Bootstrap evaluation\n",
        "        bootstrap_metrics = bootstrap_model_evaluation(model, X, y)\n",
        "        print(\"Bootstrap Validation Metrics:\")\n",
        "        print(bootstrap_metrics)\n",
        "\n",
        "        # Feature selection (applies globally, not per bootstrap split)\n",
        "        top_features = assess_features(X, y, k=10)\n",
        "        print(\"\\nTop Features Selected:\")\n",
        "        print(top_features)\n",
        "        print()\n"
      ],
      "metadata": {
        "trusted": true,
        "execution": {
          "iopub.status.busy": "2024-11-25T13:14:35.322811Z",
          "iopub.execute_input": "2024-11-25T13:14:35.323296Z",
          "iopub.status.idle": "2024-11-25T13:14:35.329635Z",
          "shell.execute_reply.started": "2024-11-25T13:14:35.323253Z",
          "shell.execute_reply": "2024-11-25T13:14:35.328505Z"
        },
        "colab": {
          "base_uri": "https://localhost:8080/"
        },
        "id": "fRRrSU98nUVS",
        "outputId": "21d8187d-dfb2-4e98-af7c-1f194be8dfe5"
      },
      "outputs": [
        {
          "output_type": "stream",
          "name": "stdout",
          "text": [
            "=== Logistic Regression ===\n",
            "Bootstrap Validation Metrics:\n",
            "Accuracy     0.821993\n",
            "Precision    0.779773\n",
            "Recall       0.741220\n",
            "F1-Score     0.759315\n",
            "ROC-AUC      0.861651\n",
            "dtype: float64\n",
            "\n",
            "Top Features Selected:\n",
            "Index(['pclass', 'age', 'fare', 'solo', 'small_family', 'sex_female',\n",
            "       'sex_male', 'title_mr', 'title_mrs', 'title_ms'],\n",
            "      dtype='object')\n",
            "\n",
            "=== Random Forest ===\n",
            "Bootstrap Validation Metrics:\n",
            "Accuracy     0.798874\n",
            "Precision    0.740004\n",
            "Recall       0.728187\n",
            "F1-Score     0.732892\n",
            "ROC-AUC      0.849826\n",
            "dtype: float64\n",
            "\n",
            "Top Features Selected:\n",
            "Index(['pclass', 'age', 'fare', 'solo', 'small_family', 'sex_female',\n",
            "       'sex_male', 'title_mr', 'title_mrs', 'title_ms'],\n",
            "      dtype='object')\n",
            "\n",
            "=== Decision Tree ===\n",
            "Bootstrap Validation Metrics:\n",
            "Accuracy     0.769878\n",
            "Precision    0.694284\n",
            "Recall       0.708055\n",
            "F1-Score     0.699862\n",
            "ROC-AUC      0.758448\n",
            "dtype: float64\n",
            "\n",
            "Top Features Selected:\n",
            "Index(['pclass', 'age', 'fare', 'solo', 'small_family', 'sex_female',\n",
            "       'sex_male', 'title_mr', 'title_mrs', 'title_ms'],\n",
            "      dtype='object')\n",
            "\n",
            "=== K-Nearest Neighbors ===\n",
            "Bootstrap Validation Metrics:\n",
            "Accuracy     0.790778\n",
            "Precision    0.730313\n",
            "Recall       0.714908\n",
            "F1-Score     0.721385\n",
            "ROC-AUC      0.825400\n",
            "dtype: float64\n",
            "\n",
            "Top Features Selected:\n",
            "Index(['pclass', 'age', 'fare', 'solo', 'small_family', 'sex_female',\n",
            "       'sex_male', 'title_mr', 'title_mrs', 'title_ms'],\n",
            "      dtype='object')\n",
            "\n",
            "=== Naive Bayes ===\n",
            "Bootstrap Validation Metrics:\n",
            "Accuracy     0.803730\n",
            "Precision    0.739665\n",
            "Recall       0.750373\n",
            "F1-Score     0.743743\n",
            "ROC-AUC      0.828440\n",
            "dtype: float64\n",
            "\n",
            "Top Features Selected:\n",
            "Index(['pclass', 'age', 'fare', 'solo', 'small_family', 'sex_female',\n",
            "       'sex_male', 'title_mr', 'title_mrs', 'title_ms'],\n",
            "      dtype='object')\n",
            "\n"
          ]
        }
      ],
      "execution_count": 135
    }
  ]
}